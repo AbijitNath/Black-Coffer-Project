{
 "cells": [
  {
   "cell_type": "code",
   "execution_count": 1,
   "metadata": {
    "id": "zKXTlS0s9knD"
   },
   "outputs": [],
   "source": [
    "import pandas as pd\n",
    "import numpy as np\n",
    "import seaborn as sns"
   ]
  },
  {
   "cell_type": "code",
   "execution_count": null,
   "metadata": {
    "colab": {
     "base_uri": "https://localhost:8080/"
    },
    "id": "ST1wO1kw9-YV",
    "outputId": "a85c4248-0b0d-47a5-f5ba-1b89468232c3"
   },
   "outputs": [],
   "source": []
  },
  {
   "cell_type": "code",
   "execution_count": 4,
   "metadata": {
    "id": "7Jm67uWl-UjE"
   },
   "outputs": [
    {
     "ename": "SyntaxError",
     "evalue": "(unicode error) 'unicodeescape' codec can't decode bytes in position 2-3: truncated \\UXXXXXXXX escape (<ipython-input-4-b34bb4632f32>, line 2)",
     "output_type": "error",
     "traceback": [
      "\u001b[1;36m  File \u001b[1;32m\"<ipython-input-4-b34bb4632f32>\"\u001b[1;36m, line \u001b[1;32m2\u001b[0m\n\u001b[1;33m    data=pd.read_excel('C:\\Users\\18270\\Downloads\\BlackCoffer\\Input.xlsx')[['URL_ID','URL']]\u001b[0m\n\u001b[1;37m                       ^\u001b[0m\n\u001b[1;31mSyntaxError\u001b[0m\u001b[1;31m:\u001b[0m (unicode error) 'unicodeescape' codec can't decode bytes in position 2-3: truncated \\UXXXXXXXX escape\n"
     ]
    }
   ],
   "source": [
    "#READING THE INPUT FILE\n",
    "data=pd.read_excel('C:\\Users\\18270\\Downloads\\BlackCoffer\\Input.xlsx')[['URL_ID','URL']]"
   ]
  },
  {
   "cell_type": "code",
   "execution_count": null,
   "metadata": {
    "colab": {
     "base_uri": "https://localhost:8080/",
     "height": 423
    },
    "id": "ftaVwMyW_WLc",
    "outputId": "3730fac7-6dbc-40da-e03b-b8768bb1030d"
   },
   "outputs": [],
   "source": [
    "data"
   ]
  },
  {
   "cell_type": "code",
   "execution_count": null,
   "metadata": {
    "colab": {
     "base_uri": "https://localhost:8080/",
     "height": 423
    },
    "id": "p0g4A-wA_WQC",
    "outputId": "5f7b0959-cc72-4202-a5ec-b959506fe5fd"
   },
   "outputs": [],
   "source": [
    "import requests\n",
    "from bs4 import BeautifulSoup\n",
    "# Function to extract text from a URL\n",
    "def extract_text_from_url(url):\n",
    "    # Send GET request to the URL\n",
    "    response = requests.get(url)\n",
    "    \n",
    "    # Parseing the HTML content of the response using BeautifulSoup\n",
    "    soup = BeautifulSoup(response.content, 'html.parser')\n",
    "    \n",
    "    # Extracting the text from the HTML content\n",
    "    text = soup.get_text()\n",
    "    \n",
    "    return text\n",
    "\n",
    "# Applying the function to each URL in the DataFrame\n",
    "data['Text'] = data['URL'].apply(extract_text_from_url)\n",
    "\n",
    "data\n"
   ]
  },
  {
   "cell_type": "code",
   "execution_count": null,
   "metadata": {
    "colab": {
     "base_uri": "https://localhost:8080/"
    },
    "id": "JdWoqkML_WU0",
    "outputId": "44c8d1a9-2b94-4994-a7f8-41f7e9b65f0c"
   },
   "outputs": [],
   "source": [
    "data.Text"
   ]
  },
  {
   "cell_type": "code",
   "execution_count": null,
   "metadata": {
    "colab": {
     "base_uri": "https://localhost:8080/"
    },
    "id": "YNkRwNTy_WXh",
    "outputId": "2d0fd899-18ca-4994-d582-5f99ca9f8bde"
   },
   "outputs": [],
   "source": [
    "data.info()"
   ]
  },
  {
   "cell_type": "code",
   "execution_count": null,
   "metadata": {
    "colab": {
     "base_uri": "https://localhost:8080/"
    },
    "id": "jwgxBxa2Mrff",
    "outputId": "159f45d2-c124-4279-9068-6484a0abd7aa"
   },
   "outputs": [],
   "source": [
    "import nltk\n",
    "import string\n",
    "nltk.download('punkt')"
   ]
  },
  {
   "cell_type": "markdown",
   "metadata": {
    "id": "nB0uatp44P3S"
   },
   "source": [
    "#EDA"
   ]
  },
  {
   "cell_type": "code",
   "execution_count": null,
   "metadata": {
    "colab": {
     "base_uri": "https://localhost:8080/",
     "height": 363
    },
    "id": "HX5_WTK5_WaI",
    "outputId": "24cca77e-1450-4892-c8a4-c134fc6e7e48"
   },
   "outputs": [],
   "source": [
    "data.Text=[Text.strip() for Text in data.Text] # remove both the leading and the trailing characters\n",
    "data.Text=[Text for Text in data.Text if Text] # removes empty strings, because they are considered in Python as False\n",
    "data[0:10]"
   ]
  },
  {
   "cell_type": "code",
   "execution_count": null,
   "metadata": {
    "id": "0KcTO8JR_WcD"
   },
   "outputs": [],
   "source": [
    "data.Text = data.Text.apply(lambda x :x.lower())          #converting all the data in lower case"
   ]
  },
  {
   "cell_type": "code",
   "execution_count": null,
   "metadata": {
    "colab": {
     "base_uri": "https://localhost:8080/",
     "height": 423
    },
    "id": "CnwjtXl2_Wel",
    "outputId": "c79b9995-7dcf-4ca9-f63b-41f610f7f332"
   },
   "outputs": [],
   "source": [
    "data\n"
   ]
  },
  {
   "cell_type": "code",
   "execution_count": null,
   "metadata": {
    "id": "nsdm-HTL_WhD"
   },
   "outputs": [],
   "source": [
    "import re\n",
    "data['Text'] = data['Text'].apply(lambda x: re.sub('[^a-zA-Z .]', ' ', x))   #removing all the characters except ^a-zA-Z . "
   ]
  },
  {
   "cell_type": "code",
   "execution_count": null,
   "metadata": {
    "colab": {
     "base_uri": "https://localhost:8080/",
     "height": 423
    },
    "id": "mASDbrJA_Wjn",
    "outputId": "92351773-8124-4d84-80b4-e953779ed4d7"
   },
   "outputs": [],
   "source": [
    "data"
   ]
  },
  {
   "cell_type": "code",
   "execution_count": null,
   "metadata": {
    "id": "SgTmXBGHTgeh"
   },
   "outputs": [],
   "source": [
    "#STOPWORDS"
   ]
  },
  {
   "cell_type": "code",
   "execution_count": null,
   "metadata": {
    "id": "CN_Wnb6aTga-"
   },
   "outputs": [],
   "source": [
    "Auditor=pd.read_csv(\"/content/drive/MyDrive/BlackCoffer/StopWords/StopWords_Auditor.txt\",header=None)\n",
    "Currencies=pd.read_csv(\"/content/drive/MyDrive/BlackCoffer/StopWords/StopWords_Currencies.txt\",header=None,encoding=\"ISO-8859-1\",sep='|' )\n",
    "DatesandNumbers=pd.read_csv(\"/content/drive/MyDrive/BlackCoffer/StopWords/StopWords_DatesandNumbers.txt\",header=None)\n",
    "Generic=pd.read_csv(\"/content/drive/MyDrive/BlackCoffer/StopWords/StopWords_Generic.txt\",header=None)\n",
    "GenericLong=pd.read_csv(\"/content/drive/MyDrive/BlackCoffer/StopWords/StopWords_GenericLong.txt\",header=None)\n",
    "Geographic=pd.read_csv(\"/content/drive/MyDrive/BlackCoffer/StopWords/StopWords_Geographic.txt\",header=None)\n",
    "Names=pd.read_csv(\"/content/drive/MyDrive/BlackCoffer/StopWords/StopWords_Names.txt\",header=None)"
   ]
  },
  {
   "cell_type": "code",
   "execution_count": null,
   "metadata": {
    "id": "2UorzqvhwdtP"
   },
   "outputs": [],
   "source": [
    "from nltk import word_tokenize               #calling Tokenization function \n",
    "data.Text = data.Text.astype(str)\n",
    "data.Text = data.Text.apply(lambda x:x.split())            #spliting data in words"
   ]
  },
  {
   "cell_type": "code",
   "execution_count": null,
   "metadata": {
    "colab": {
     "base_uri": "https://localhost:8080/",
     "height": 423
    },
    "id": "__o176x7MNaW",
    "outputId": "f043b409-e83b-4764-ffb9-49d1dd6a972c"
   },
   "outputs": [],
   "source": [
    "data"
   ]
  },
  {
   "cell_type": "code",
   "execution_count": null,
   "metadata": {
    "id": "TaIWrze7HAjw"
   },
   "outputs": [],
   "source": [
    "#convert all STOPWORDS files to string \n",
    "Auditor=Auditor.astype(str)\n",
    "Currencies=Currencies.astype(str) \n",
    "DatesandNumbers=DatesandNumbers.astype(str)\n",
    "Generic=Generic.astype(str)\n",
    "GenericLong=GenericLong.astype(str)\n",
    "Names=Names.astype(str)\n"
   ]
  },
  {
   "cell_type": "code",
   "execution_count": null,
   "metadata": {
    "id": "BDYNuaAlICkU"
   },
   "outputs": [],
   "source": [
    "\n"
   ]
  },
  {
   "cell_type": "code",
   "execution_count": null,
   "metadata": {
    "id": "Ef2vD2gSE3yE"
   },
   "outputs": [],
   "source": [
    "#Convert all stopwords to lower case\n",
    "Auditor= Auditor.applymap(lambda x:x.lower())\n",
    "Currencies=Currencies.applymap(lambda x:x.lower())\n",
    "DatesandNumbers=DatesandNumbers.applymap(lambda x:x.lower())\n",
    "Generic=Generic.applymap(lambda x:x.lower())\n",
    "GenericLong=GenericLong.applymap(lambda x:x.lower())\n",
    "Geographic= Geographic.applymap(lambda x:x.lower())\n",
    "Names = Names.fillna('').applymap(lambda x: x.lower())\n",
    "Names= Names.applymap(lambda x:x.lower())"
   ]
  },
  {
   "cell_type": "code",
   "execution_count": null,
   "metadata": {
    "id": "nZ6V4AzoTgTB"
   },
   "outputs": [],
   "source": [
    "def clear_stopwords(Text):\n",
    "      \n",
    "      Text = [word for word in Text if word not in set(Auditor)]\n",
    "      Text = [word for word in Text if word not in set(Currencies)]\n",
    "      Text = [word for word in Text if word not in set(DatesandNumbers)]\n",
    "      Text = [word for word in Text if word not in set(Generic)]\n",
    "      Text = [word for word in Text if word not in set(GenericLong)]\n",
    "      Text = [word for word in Text if word not in set(Geographic)]\n",
    "      Text = [word for word in Text if word not in set(Names)]\n",
    "      return Text"
   ]
  },
  {
   "cell_type": "code",
   "execution_count": null,
   "metadata": {
    "id": "NrTRKE0P8eOI"
   },
   "outputs": [],
   "source": [
    "data['Text'] = data['Text'].apply(clear_stopwords)"
   ]
  },
  {
   "cell_type": "code",
   "execution_count": null,
   "metadata": {
    "colab": {
     "base_uri": "https://localhost:8080/",
     "height": 423
    },
    "id": "6G21qkSftGmH",
    "outputId": "6c1ebdb2-c9cd-4339-b971-b15af4bc4137"
   },
   "outputs": [],
   "source": [
    "data"
   ]
  },
  {
   "cell_type": "code",
   "execution_count": null,
   "metadata": {
    "id": "t9kQvVEEtGgn"
   },
   "outputs": [],
   "source": [
    "data.Text = data.Text.apply(lambda x:\" \".join(x))           #join the tokens into sentence again"
   ]
  },
  {
   "cell_type": "code",
   "execution_count": null,
   "metadata": {
    "colab": {
     "base_uri": "https://localhost:8080/",
     "height": 423
    },
    "id": "hb6mom_FtGa9",
    "outputId": "cd21d12c-240c-4b6b-8ff5-1c5ebdda859f"
   },
   "outputs": [],
   "source": [
    "data"
   ]
  },
  {
   "cell_type": "code",
   "execution_count": null,
   "metadata": {
    "id": "Ue_hoVtKtGXP"
   },
   "outputs": [],
   "source": [
    "#Importing master dictionary "
   ]
  },
  {
   "cell_type": "code",
   "execution_count": null,
   "metadata": {
    "id": "cQxDgSCWtGTh"
   },
   "outputs": [],
   "source": [
    "positive = pd.read_csv(\"/content/drive/MyDrive/BlackCoffer/MasterDictionary/positive-words.txt\")\n",
    "negative = pd.read_csv(\"/content/drive/MyDrive/BlackCoffer/MasterDictionary/negative-words.txt\", encoding='ISO-8859-1')\n"
   ]
  },
  {
   "cell_type": "code",
   "execution_count": null,
   "metadata": {
    "colab": {
     "base_uri": "https://localhost:8080/",
     "height": 423
    },
    "id": "s2ShOsCftGO5",
    "outputId": "3d9ca8c1-20af-41f1-fcca-20f385962b6a"
   },
   "outputs": [],
   "source": [
    "positive\n"
   ]
  },
  {
   "cell_type": "code",
   "execution_count": null,
   "metadata": {
    "colab": {
     "base_uri": "https://localhost:8080/",
     "height": 423
    },
    "id": "3NYmhBqYtGLo",
    "outputId": "d51b68ff-9e89-4c30-d67a-e163fad994af"
   },
   "outputs": [],
   "source": [
    "negative"
   ]
  },
  {
   "cell_type": "code",
   "execution_count": null,
   "metadata": {
    "id": "keiOxgE9_Wne"
   },
   "outputs": [],
   "source": [
    "positive = positive.rename(columns={'a+': 'p_word'})                    #Renaming the positive and negative dataframe columns \n",
    "negative = negative.rename(columns={'2-faced': 'n_word'})           "
   ]
  },
  {
   "cell_type": "code",
   "execution_count": null,
   "metadata": {
    "id": "_rQYAb8P4JpN"
   },
   "outputs": [],
   "source": [
    "positive.p_word= positive.p_word.str.lower()\n",
    "positive = positive.apply(clear_stopwords)\n"
   ]
  },
  {
   "cell_type": "code",
   "execution_count": null,
   "metadata": {
    "colab": {
     "base_uri": "https://localhost:8080/"
    },
    "id": "Dev2cxz1MpNu",
    "outputId": "df1971a0-846c-4212-eb6a-8e5daa0e2dce"
   },
   "outputs": [],
   "source": [
    "len(positive)"
   ]
  },
  {
   "cell_type": "code",
   "execution_count": null,
   "metadata": {
    "id": "RfT8AmSh4Jl_"
   },
   "outputs": [],
   "source": [
    "negative.n_word= negative.n_word.str.lower()\n",
    "negative = negative.apply(clear_stopwords)\n"
   ]
  },
  {
   "cell_type": "code",
   "execution_count": null,
   "metadata": {
    "id": "pAvn7lVvS44y"
   },
   "outputs": [],
   "source": [
    "positive = positive['p_word'].to_list()\n",
    "negative = negative['n_word'].to_list()"
   ]
  },
  {
   "cell_type": "code",
   "execution_count": null,
   "metadata": {
    "colab": {
     "base_uri": "https://localhost:8080/"
    },
    "id": "lInQBCk7MZjn",
    "outputId": "c11f1739-99a3-4ef8-c4c8-552280373fd5"
   },
   "outputs": [],
   "source": [
    "data.Text"
   ]
  },
  {
   "cell_type": "code",
   "execution_count": null,
   "metadata": {
    "id": "IRbdznQIMjad"
   },
   "outputs": [],
   "source": [
    "data.Text = data.Text.astype(str)"
   ]
  },
  {
   "cell_type": "code",
   "execution_count": null,
   "metadata": {
    "colab": {
     "base_uri": "https://localhost:8080/",
     "height": 423
    },
    "id": "yemzu034-6A9",
    "outputId": "909c3941-da6c-4b42-c1e5-3d55dd70ab8d"
   },
   "outputs": [],
   "source": [
    "data['tokens'] = data['Text'].apply(lambda x: word_tokenize(x))                      #again tokenizing the data \n",
    "data"
   ]
  },
  {
   "cell_type": "markdown",
   "metadata": {
    "id": "g9LDBq44CP34"
   },
   "source": [
    "#Sentimental Analysis"
   ]
  },
  {
   "cell_type": "code",
   "execution_count": null,
   "metadata": {
    "id": "CGG8zy1SCBym"
   },
   "outputs": [],
   "source": []
  },
  {
   "cell_type": "code",
   "execution_count": null,
   "metadata": {
    "colab": {
     "base_uri": "https://localhost:8080/"
    },
    "id": "E0rDAHBX4JiZ",
    "outputId": "cc08718e-2e2e-46d0-aa3a-83764822afda"
   },
   "outputs": [],
   "source": [
    "data['Positive Score'] = 0\n",
    "data['Negative Score'] = 0\n",
    "data['Polarity Score'] = 0\n",
    "data['Subjectivity Score'] = 0\n",
    "\n",
    "\n",
    "\n",
    "i=0\n",
    "p_score=0\n",
    "n_score=0\n",
    "while(i<len(data)):\n",
    "  tokens = data['tokens'].iloc[i]                       #POSITIVE SCORE\n",
    "  for a in tokens:\n",
    "    if(a in positive):\n",
    "      p_score+=1\n",
    "      data['Positive Score'].iloc[i]=p_score\n",
    "  for b in tokens:                                      #NEGATIVE SCORE\n",
    "    if(b in negative):\n",
    "      n_score+=1\n",
    "      data['Negative Score'].iloc[i]=n_score\n",
    "  #Polarity Score = (Positive Score – Negative Score)/ ((Positive Score + Negative Score) + 0.000001)\n",
    "  Polarity_Score=(p_score-n_score)/((p_score+n_score)+0.000001)\n",
    "  data['Polarity Score'].iloc[i]=Polarity_Score\n",
    "    \n",
    "  #Subjectivity Score = (Positive Score + Negative Score)/ ((Total Words after cleaning) + 0.000001)\n",
    "  subjectivity_score=(p_score+n_score)/((len(tokens))+ 0.000001)\n",
    "  data['Subjectivity Score'].iloc[i]=subjectivity_score\n",
    "     \n",
    "  p_score=0\n",
    "  n_score=0\n",
    "  i += 1\n"
   ]
  },
  {
   "cell_type": "code",
   "execution_count": null,
   "metadata": {
    "colab": {
     "base_uri": "https://localhost:8080/",
     "height": 693
    },
    "id": "ezwtSmEu4JeJ",
    "outputId": "e8010b2b-08f7-43f3-af66-4d2405b05ca6"
   },
   "outputs": [],
   "source": [
    "data"
   ]
  },
  {
   "cell_type": "markdown",
   "metadata": {
    "id": "vzxoAbUhCbVX"
   },
   "source": [
    "#Analysis of Readibibility"
   ]
  },
  {
   "cell_type": "code",
   "execution_count": null,
   "metadata": {
    "id": "rerNVaWVGtp0"
   },
   "outputs": [],
   "source": [
    "data.Text = data.Text.astype(str)\n",
    "from nltk.tokenize import sent_tokenize\n",
    "data['sentences'] = data['Text'].apply(lambda x: sent_tokenize(x))                  #tokenizing the sentence in data\n"
   ]
  },
  {
   "cell_type": "code",
   "execution_count": null,
   "metadata": {
    "colab": {
     "base_uri": "https://localhost:8080/"
    },
    "id": "CoeGhf6mJA28",
    "outputId": "cab1e13b-01b4-468b-d96e-8e90d61c1e4f"
   },
   "outputs": [],
   "source": [
    "len(data['sentences'].iloc[0])"
   ]
  },
  {
   "cell_type": "code",
   "execution_count": null,
   "metadata": {
    "id": "bBBcwE2CSTKn"
   },
   "outputs": [],
   "source": [
    "#AVERAGE SENTENCE LENGTH\n",
    "i = 0\n",
    "while i < len(data):\n",
    "    words = data['tokens'].iloc[i]\n",
    "    sent = data['sentences'].iloc[i]\n",
    "    avg_sent_len = len(words) / len(sent)\n",
    "    data.at[i, 'Average Sentence Length'] = avg_sent_len\n",
    "    i += 1\n",
    "\n"
   ]
  },
  {
   "cell_type": "code",
   "execution_count": null,
   "metadata": {
    "colab": {
     "base_uri": "https://localhost:8080/"
    },
    "id": "yRElToJsTI1A",
    "outputId": "2b5106e7-cf99-4a92-9dcf-9059da76f2e7"
   },
   "outputs": [],
   "source": [
    "#Percentage of complex word     AND Complex Word Count\n",
    "data['Percentage of Complex words']=0\n",
    "data['Complex Word Count']=0\n",
    "vowels=['a','e','i','o','u']\n",
    "count=0\n",
    "complex_Word_Count=0\n",
    "i = 0  # initialize i\n",
    "while(i<len(data)):\n",
    " for a in data.tokens.iloc[i]:\n",
    "   x=re.compile('[es|ed]$')\n",
    "   if x.match(a):\n",
    "    count+=0\n",
    "   else:\n",
    "     for j in a:\n",
    "       if(j in vowels ):\n",
    "         count+=1         \n",
    "   if(count>2):\n",
    "    complex_Word_Count+=1\n",
    "   count=0\n",
    " Percentage_of_Complex_words=complex_Word_Count/len(data.tokens.iloc[i])\n",
    " data['Percentage of Complex words'].iloc[i]=Percentage_of_Complex_words\n",
    " data['Complex Word Count'].iloc[i]= complex_Word_Count\n",
    " i += 1  # increment i after each iteration\n"
   ]
  },
  {
   "cell_type": "code",
   "execution_count": null,
   "metadata": {
    "id": "kztHIKE14JaC"
   },
   "outputs": [],
   "source": [
    "#FOG INDEX"
   ]
  },
  {
   "cell_type": "code",
   "execution_count": null,
   "metadata": {
    "id": "PHx8hPE-OZGN"
   },
   "outputs": [],
   "source": [
    "i = 0\n",
    "while i < len(data):\n",
    "    fog_index = 0.4 * (data.at[i, 'Average Sentence Length'] + data.at[i, 'Percentage of Complex words'])\n",
    "    data.at[i, 'Fog Index'] = fog_index\n",
    "    i += 1\n",
    "\n"
   ]
  },
  {
   "cell_type": "code",
   "execution_count": null,
   "metadata": {
    "id": "-Yv8wkdDDlXR"
   },
   "outputs": [],
   "source": [
    "#AVERAGE NO OF WORDS PER SCENTENCE\n"
   ]
  },
  {
   "cell_type": "code",
   "execution_count": null,
   "metadata": {
    "id": "Zg41Bdw3Dujh"
   },
   "outputs": [],
   "source": [
    "data['avg no of words per sentence'] = 0\n",
    "avg_length = []\n",
    "for i in range(0, len(data)):\n",
    "    for sentence in data['sentences'].iloc[i]:\n",
    "        words = sentence.split()\n",
    "        avg_length.append(len(words))\n",
    "\n",
    "avg_no_of_words_per_sentence = sum(avg_length)/len(avg_length)\n",
    "data['avg no of words per sentence'] = avg_no_of_words_per_sentence"
   ]
  },
  {
   "cell_type": "code",
   "execution_count": null,
   "metadata": {
    "id": "skAXptDl4JXr"
   },
   "outputs": [],
   "source": [
    "#WORD COUNT\n",
    "data['word count'] = 0\n",
    "i = 0\n",
    "while(i < len(data)):\n",
    "    word_count = len(data['tokens'].iloc[i])\n",
    "    data.at[i, 'word count'] = word_count\n",
    "    i += 1"
   ]
  },
  {
   "cell_type": "code",
   "execution_count": null,
   "metadata": {
    "id": "7AO7HqhR4JVG"
   },
   "outputs": [],
   "source": [
    "#SYLLABLE PER WORD\n",
    "vowels = ['a', 'e', 'i', 'o', 'u']\n",
    "complex_Word_Count = 0\n",
    "i = 0\n",
    "while i < len(data):\n",
    "    count = 0\n",
    "    for word in data['tokens'].iloc[i]:\n",
    "        if word.endswith(('es', 'ed')):\n",
    "            continue\n",
    "        for letter in word:\n",
    "            if letter.lower() in vowels:\n",
    "                count += 1\n",
    "    data.at[i, 'Syllable per word'] = count\n",
    "    i += 1"
   ]
  },
  {
   "cell_type": "code",
   "execution_count": null,
   "metadata": {
    "id": "bxTZqXBB4JRc"
   },
   "outputs": [],
   "source": [
    "#PERSONAL PRONOUNS\n",
    "pronouns = ['i', 'we', 'my', 'ours', 'us']\n",
    "i = 0\n",
    "while i < len(data):\n",
    "    count = 0\n",
    "    for word in data['tokens'].iloc[i]:\n",
    "        if word.lower() in pronouns:\n",
    "            count += 1\n",
    "    data.at[i, 'personal pronouns'] = count\n",
    "    i += 1\n"
   ]
  },
  {
   "cell_type": "code",
   "execution_count": null,
   "metadata": {
    "id": "RkT3u7Oa_Wq0"
   },
   "outputs": [],
   "source": [
    "#AVERAGE WORD LENGTH\n",
    "i = 0\n",
    "while i < len(data):\n",
    "    count = 0\n",
    "    for word in data['tokens'].iloc[i]:\n",
    "        count += len(word)\n",
    "    avg_word_length = count / len(data['tokens'].iloc[i])\n",
    "    data.at[i, 'Average Word Length'] = avg_word_length\n",
    "    i += 1"
   ]
  },
  {
   "cell_type": "code",
   "execution_count": null,
   "metadata": {
    "colab": {
     "base_uri": "https://localhost:8080/",
     "height": 1000
    },
    "id": "kIhIM005iUz5",
    "outputId": "11650fe8-cf28-4a64-f7b9-ed15ba83d83e"
   },
   "outputs": [],
   "source": [
    "data"
   ]
  },
  {
   "cell_type": "code",
   "execution_count": null,
   "metadata": {
    "id": "vJzgtExxkCM1"
   },
   "outputs": [],
   "source": [
    "data.drop(['URL_ID','Text','tokens','sentences'],axis=1,inplace=True)"
   ]
  },
  {
   "cell_type": "code",
   "execution_count": null,
   "metadata": {
    "colab": {
     "base_uri": "https://localhost:8080/",
     "height": 713
    },
    "id": "RDfrQPSekxlW",
    "outputId": "d7655093-17b1-4d20-e0eb-57697f2ca8c8"
   },
   "outputs": [],
   "source": [
    "data\n"
   ]
  }
 ],
 "metadata": {
  "colab": {
   "provenance": []
  },
  "kernelspec": {
   "display_name": "Python 3",
   "language": "python",
   "name": "python3"
  },
  "language_info": {
   "codemirror_mode": {
    "name": "ipython",
    "version": 3
   },
   "file_extension": ".py",
   "mimetype": "text/x-python",
   "name": "python",
   "nbconvert_exporter": "python",
   "pygments_lexer": "ipython3",
   "version": "3.8.8"
  }
 },
 "nbformat": 4,
 "nbformat_minor": 1
}
